{
  "nbformat": 4,
  "nbformat_minor": 0,
  "metadata": {
    "colab": {
      "name": "Teste de dados globais covid-19",
      "provenance": [],
      "collapsed_sections": [],
      "authorship_tag": "ABX9TyNpTeFoaxBQkh6nYEs9tnnK",
      "include_colab_link": true
    },
    "kernelspec": {
      "name": "python3",
      "display_name": "Python 3"
    }
  },
  "cells": [
    {
      "cell_type": "markdown",
      "metadata": {
        "id": "view-in-github",
        "colab_type": "text"
      },
      "source": [
        "<a href=\"https://colab.research.google.com/github/anapmdm/covid-19/blob/main/Teste_de_dados_globais_covid_19.ipynb\" target=\"_parent\"><img src=\"https://colab.research.google.com/assets/colab-badge.svg\" alt=\"Open In Colab\"/></a>"
      ]
    },
    {
      "cell_type": "markdown",
      "metadata": {
        "id": "hnIhjzZ6PBOR"
      },
      "source": [
        "**Aplicando os conhecimentos de DS em dados globais do Covid 19**\r\n",
        "\r\n",
        "Dados retirados do site da OMS."
      ]
    },
    {
      "cell_type": "code",
      "metadata": {
        "colab": {
          "base_uri": "https://localhost:8080/",
          "height": 346
        },
        "id": "pR7SsQoqPTrn",
        "outputId": "7709907f-88ba-4938-d323-8e7f4b7018c7"
      },
      "source": [
        "#Importando pandas\r\n",
        "import pandas as pd\r\n",
        "#importando o arquivo csv\r\n",
        "df=pd.read_csv('https://raw.githubusercontent.com/anapmdm/covid-19/main/WHO%20COVID-19%20global%20table%20data%20February%2013th%202021%20at%2011.46.48%20AM.csv')\r\n",
        "df.head()"
      ],
      "execution_count": 3,
      "outputs": [
        {
          "output_type": "execute_result",
          "data": {
            "text/html": [
              "<div>\n",
              "<style scoped>\n",
              "    .dataframe tbody tr th:only-of-type {\n",
              "        vertical-align: middle;\n",
              "    }\n",
              "\n",
              "    .dataframe tbody tr th {\n",
              "        vertical-align: top;\n",
              "    }\n",
              "\n",
              "    .dataframe thead th {\n",
              "        text-align: right;\n",
              "    }\n",
              "</style>\n",
              "<table border=\"1\" class=\"dataframe\">\n",
              "  <thead>\n",
              "    <tr style=\"text-align: right;\">\n",
              "      <th></th>\n",
              "      <th>Name</th>\n",
              "      <th>WHO Region</th>\n",
              "      <th>Cases - cumulative total</th>\n",
              "      <th>Cases - cumulative total per 100000 population</th>\n",
              "      <th>Cases - newly reported in last 7 days</th>\n",
              "      <th>Cases - newly reported in last 7 days per 100000 population</th>\n",
              "      <th>Cases - newly reported in last 24 hours</th>\n",
              "      <th>Deaths - cumulative total</th>\n",
              "      <th>Deaths - cumulative total per 100000 population</th>\n",
              "      <th>Deaths - newly reported in last 7 days</th>\n",
              "      <th>Deaths - newly reported in last 7 days per 100000 population</th>\n",
              "      <th>Deaths - newly reported in last 24 hours</th>\n",
              "      <th>Transmission Classification</th>\n",
              "    </tr>\n",
              "  </thead>\n",
              "  <tbody>\n",
              "    <tr>\n",
              "      <th>0</th>\n",
              "      <td>Global</td>\n",
              "      <td>NaN</td>\n",
              "      <td>107686655</td>\n",
              "      <td>1379.482059</td>\n",
              "      <td>2829507</td>\n",
              "      <td>36.246405</td>\n",
              "      <td>420028</td>\n",
              "      <td>2368571</td>\n",
              "      <td>30.341747</td>\n",
              "      <td>81310</td>\n",
              "      <td>1.041593</td>\n",
              "      <td>12694</td>\n",
              "      <td>NaN</td>\n",
              "    </tr>\n",
              "    <tr>\n",
              "      <th>1</th>\n",
              "      <td>United States of America</td>\n",
              "      <td>Americas</td>\n",
              "      <td>27122583</td>\n",
              "      <td>8194.070000</td>\n",
              "      <td>704567</td>\n",
              "      <td>212.860000</td>\n",
              "      <td>101693</td>\n",
              "      <td>471635</td>\n",
              "      <td>142.490000</td>\n",
              "      <td>19449</td>\n",
              "      <td>5.880000</td>\n",
              "      <td>3584</td>\n",
              "      <td>Community transmission</td>\n",
              "    </tr>\n",
              "    <tr>\n",
              "      <th>2</th>\n",
              "      <td>India</td>\n",
              "      <td>South-East Asia</td>\n",
              "      <td>10892746</td>\n",
              "      <td>789.330000</td>\n",
              "      <td>78442</td>\n",
              "      <td>5.680000</td>\n",
              "      <td>12143</td>\n",
              "      <td>155550</td>\n",
              "      <td>11.270000</td>\n",
              "      <td>632</td>\n",
              "      <td>0.050000</td>\n",
              "      <td>103</td>\n",
              "      <td>Clusters of cases</td>\n",
              "    </tr>\n",
              "    <tr>\n",
              "      <th>3</th>\n",
              "      <td>Brazil</td>\n",
              "      <td>Americas</td>\n",
              "      <td>9713909</td>\n",
              "      <td>4569.970000</td>\n",
              "      <td>317616</td>\n",
              "      <td>149.420000</td>\n",
              "      <td>54742</td>\n",
              "      <td>236201</td>\n",
              "      <td>111.120000</td>\n",
              "      <td>7406</td>\n",
              "      <td>3.480000</td>\n",
              "      <td>1351</td>\n",
              "      <td>Community transmission</td>\n",
              "    </tr>\n",
              "    <tr>\n",
              "      <th>4</th>\n",
              "      <td>Russian Federation</td>\n",
              "      <td>Europe</td>\n",
              "      <td>4042837</td>\n",
              "      <td>2770.310000</td>\n",
              "      <td>108231</td>\n",
              "      <td>74.160000</td>\n",
              "      <td>15089</td>\n",
              "      <td>79194</td>\n",
              "      <td>54.270000</td>\n",
              "      <td>3462</td>\n",
              "      <td>2.370000</td>\n",
              "      <td>507</td>\n",
              "      <td>Clusters of cases</td>\n",
              "    </tr>\n",
              "  </tbody>\n",
              "</table>\n",
              "</div>"
            ],
            "text/plain": [
              "                       Name  ... Transmission Classification\n",
              "0                    Global  ...                         NaN\n",
              "1  United States of America  ...      Community transmission\n",
              "2                     India  ...           Clusters of cases\n",
              "3                    Brazil  ...      Community transmission\n",
              "4        Russian Federation  ...           Clusters of cases\n",
              "\n",
              "[5 rows x 13 columns]"
            ]
          },
          "metadata": {
            "tags": []
          },
          "execution_count": 3
        }
      ]
    },
    {
      "cell_type": "code",
      "metadata": {
        "colab": {
          "base_uri": "https://localhost:8080/"
        },
        "id": "X5MeatOTQGWM",
        "outputId": "e2f7e96f-a87d-4c6f-d9b5-5cee2bae5a77"
      },
      "source": [
        "#tamanho do df\r\n",
        "df.shape"
      ],
      "execution_count": 7,
      "outputs": [
        {
          "output_type": "execute_result",
          "data": {
            "text/plain": [
              "(238, 13)"
            ]
          },
          "metadata": {
            "tags": []
          },
          "execution_count": 7
        }
      ]
    },
    {
      "cell_type": "code",
      "metadata": {
        "colab": {
          "base_uri": "https://localhost:8080/",
          "height": 313
        },
        "id": "lVgYRM9Mcmsa",
        "outputId": "bc51854b-990e-40df-8b66-b931b257a8c2"
      },
      "source": [
        "df.tail()"
      ],
      "execution_count": 8,
      "outputs": [
        {
          "output_type": "execute_result",
          "data": {
            "text/html": [
              "<div>\n",
              "<style scoped>\n",
              "    .dataframe tbody tr th:only-of-type {\n",
              "        vertical-align: middle;\n",
              "    }\n",
              "\n",
              "    .dataframe tbody tr th {\n",
              "        vertical-align: top;\n",
              "    }\n",
              "\n",
              "    .dataframe thead th {\n",
              "        text-align: right;\n",
              "    }\n",
              "</style>\n",
              "<table border=\"1\" class=\"dataframe\">\n",
              "  <thead>\n",
              "    <tr style=\"text-align: right;\">\n",
              "      <th></th>\n",
              "      <th>Name</th>\n",
              "      <th>WHO Region</th>\n",
              "      <th>Cases - cumulative total</th>\n",
              "      <th>Cases - cumulative total per 100000 population</th>\n",
              "      <th>Cases - newly reported in last 7 days</th>\n",
              "      <th>Cases - newly reported in last 7 days per 100000 population</th>\n",
              "      <th>Cases - newly reported in last 24 hours</th>\n",
              "      <th>Deaths - cumulative total</th>\n",
              "      <th>Deaths - cumulative total per 100000 population</th>\n",
              "      <th>Deaths - newly reported in last 7 days</th>\n",
              "      <th>Deaths - newly reported in last 7 days per 100000 population</th>\n",
              "      <th>Deaths - newly reported in last 24 hours</th>\n",
              "      <th>Transmission Classification</th>\n",
              "    </tr>\n",
              "  </thead>\n",
              "  <tbody>\n",
              "    <tr>\n",
              "      <th>233</th>\n",
              "      <td>Saint Helena</td>\n",
              "      <td>Africa</td>\n",
              "      <td>0</td>\n",
              "      <td>0.0</td>\n",
              "      <td>0</td>\n",
              "      <td>0.0</td>\n",
              "      <td>0</td>\n",
              "      <td>0</td>\n",
              "      <td>0.0</td>\n",
              "      <td>0</td>\n",
              "      <td>0.0</td>\n",
              "      <td>0</td>\n",
              "      <td>No cases</td>\n",
              "    </tr>\n",
              "    <tr>\n",
              "      <th>234</th>\n",
              "      <td>Tokelau</td>\n",
              "      <td>Western Pacific</td>\n",
              "      <td>0</td>\n",
              "      <td>0.0</td>\n",
              "      <td>0</td>\n",
              "      <td>0.0</td>\n",
              "      <td>0</td>\n",
              "      <td>0</td>\n",
              "      <td>0.0</td>\n",
              "      <td>0</td>\n",
              "      <td>0.0</td>\n",
              "      <td>0</td>\n",
              "      <td>No cases</td>\n",
              "    </tr>\n",
              "    <tr>\n",
              "      <th>235</th>\n",
              "      <td>Tonga</td>\n",
              "      <td>Western Pacific</td>\n",
              "      <td>0</td>\n",
              "      <td>0.0</td>\n",
              "      <td>0</td>\n",
              "      <td>0.0</td>\n",
              "      <td>0</td>\n",
              "      <td>0</td>\n",
              "      <td>0.0</td>\n",
              "      <td>0</td>\n",
              "      <td>0.0</td>\n",
              "      <td>0</td>\n",
              "      <td>No cases</td>\n",
              "    </tr>\n",
              "    <tr>\n",
              "      <th>236</th>\n",
              "      <td>Turkmenistan</td>\n",
              "      <td>Europe</td>\n",
              "      <td>0</td>\n",
              "      <td>0.0</td>\n",
              "      <td>0</td>\n",
              "      <td>0.0</td>\n",
              "      <td>0</td>\n",
              "      <td>0</td>\n",
              "      <td>0.0</td>\n",
              "      <td>0</td>\n",
              "      <td>0.0</td>\n",
              "      <td>0</td>\n",
              "      <td>No cases</td>\n",
              "    </tr>\n",
              "    <tr>\n",
              "      <th>237</th>\n",
              "      <td>Tuvalu</td>\n",
              "      <td>Western Pacific</td>\n",
              "      <td>0</td>\n",
              "      <td>0.0</td>\n",
              "      <td>0</td>\n",
              "      <td>0.0</td>\n",
              "      <td>0</td>\n",
              "      <td>0</td>\n",
              "      <td>0.0</td>\n",
              "      <td>0</td>\n",
              "      <td>0.0</td>\n",
              "      <td>0</td>\n",
              "      <td>No cases</td>\n",
              "    </tr>\n",
              "  </tbody>\n",
              "</table>\n",
              "</div>"
            ],
            "text/plain": [
              "             Name  ... Transmission Classification\n",
              "233  Saint Helena  ...                    No cases\n",
              "234       Tokelau  ...                    No cases\n",
              "235         Tonga  ...                    No cases\n",
              "236  Turkmenistan  ...                    No cases\n",
              "237        Tuvalu  ...                    No cases\n",
              "\n",
              "[5 rows x 13 columns]"
            ]
          },
          "metadata": {
            "tags": []
          },
          "execution_count": 8
        }
      ]
    },
    {
      "cell_type": "code",
      "metadata": {
        "colab": {
          "base_uri": "https://localhost:8080/"
        },
        "id": "FeRwvIwddsk9",
        "outputId": "dd81c5e1-882d-47c8-d360-68f591df59a0"
      },
      "source": [
        "df.columns"
      ],
      "execution_count": 15,
      "outputs": [
        {
          "output_type": "execute_result",
          "data": {
            "text/plain": [
              "Index(['Name', 'WHO Region', 'Cases - cumulative total',\n",
              "       'Cases - cumulative total per 100000 population',\n",
              "       'Cases - newly reported in last 7 days',\n",
              "       'Cases - newly reported in last 7 days per 100000 population',\n",
              "       'Cases - newly reported in last 24 hours', 'Deaths - cumulative total',\n",
              "       'Deaths - cumulative total per 100000 population',\n",
              "       'Deaths - newly reported in last 7 days',\n",
              "       'Deaths - newly reported in last 7 days per 100000 population',\n",
              "       'Deaths - newly reported in last 24 hours',\n",
              "       'Transmission Classification'],\n",
              "      dtype='object')"
            ]
          },
          "metadata": {
            "tags": []
          },
          "execution_count": 15
        }
      ]
    },
    {
      "cell_type": "code",
      "metadata": {
        "colab": {
          "base_uri": "https://localhost:8080/"
        },
        "id": "Exr5twDvd4lN",
        "outputId": "dfed1991-de1d-43d5-ad01-0e603525b610"
      },
      "source": [
        "#media dos novos casos nos ultimos 7 dias\r\n",
        "df['Cases - newly reported in last 7 days'].mean()"
      ],
      "execution_count": 22,
      "outputs": [
        {
          "output_type": "execute_result",
          "data": {
            "text/plain": [
              "23777.36974789916"
            ]
          },
          "metadata": {
            "tags": []
          },
          "execution_count": 22
        }
      ]
    },
    {
      "cell_type": "code",
      "metadata": {
        "colab": {
          "base_uri": "https://localhost:8080/"
        },
        "id": "3adskhbKeiqF",
        "outputId": "567edb66-c5ac-458f-8d02-24b731c89b3b"
      },
      "source": [
        "#mediana dos novos casos nos ultimos 7 dias\r\n",
        "df['Cases - newly reported in last 7 days'].median()"
      ],
      "execution_count": 26,
      "outputs": [
        {
          "output_type": "execute_result",
          "data": {
            "text/plain": [
              "28.69"
            ]
          },
          "metadata": {
            "tags": []
          },
          "execution_count": 26
        }
      ]
    },
    {
      "cell_type": "code",
      "metadata": {
        "colab": {
          "base_uri": "https://localhost:8080/",
          "height": 334
        },
        "id": "qCgpgd1UfHSO",
        "outputId": "a00efc34-0837-49a1-b500-633289ff2302"
      },
      "source": [
        "df.describe()"
      ],
      "execution_count": 25,
      "outputs": [
        {
          "output_type": "execute_result",
          "data": {
            "text/html": [
              "<div>\n",
              "<style scoped>\n",
              "    .dataframe tbody tr th:only-of-type {\n",
              "        vertical-align: middle;\n",
              "    }\n",
              "\n",
              "    .dataframe tbody tr th {\n",
              "        vertical-align: top;\n",
              "    }\n",
              "\n",
              "    .dataframe thead th {\n",
              "        text-align: right;\n",
              "    }\n",
              "</style>\n",
              "<table border=\"1\" class=\"dataframe\">\n",
              "  <thead>\n",
              "    <tr style=\"text-align: right;\">\n",
              "      <th></th>\n",
              "      <th>Cases - cumulative total</th>\n",
              "      <th>Cases - cumulative total per 100000 population</th>\n",
              "      <th>Cases - newly reported in last 7 days</th>\n",
              "      <th>Cases - newly reported in last 7 days per 100000 population</th>\n",
              "      <th>Cases - newly reported in last 24 hours</th>\n",
              "      <th>Deaths - cumulative total</th>\n",
              "      <th>Deaths - cumulative total per 100000 population</th>\n",
              "      <th>Deaths - newly reported in last 7 days</th>\n",
              "      <th>Deaths - newly reported in last 7 days per 100000 population</th>\n",
              "      <th>Deaths - newly reported in last 24 hours</th>\n",
              "    </tr>\n",
              "  </thead>\n",
              "  <tbody>\n",
              "    <tr>\n",
              "      <th>count</th>\n",
              "      <td>2.380000e+02</td>\n",
              "      <td>237.000000</td>\n",
              "      <td>2.380000e+02</td>\n",
              "      <td>237.000000</td>\n",
              "      <td>238.000000</td>\n",
              "      <td>2.380000e+02</td>\n",
              "      <td>237.000000</td>\n",
              "      <td>238.000000</td>\n",
              "      <td>237.000000</td>\n",
              "      <td>238.000000</td>\n",
              "    </tr>\n",
              "    <tr>\n",
              "      <th>mean</th>\n",
              "      <td>9.049299e+05</td>\n",
              "      <td>2063.376929</td>\n",
              "      <td>2.377737e+04</td>\n",
              "      <td>73.326989</td>\n",
              "      <td>3529.647059</td>\n",
              "      <td>1.990396e+04</td>\n",
              "      <td>35.317940</td>\n",
              "      <td>683.277311</td>\n",
              "      <td>1.334606</td>\n",
              "      <td>106.672269</td>\n",
              "    </tr>\n",
              "    <tr>\n",
              "      <th>std</th>\n",
              "      <td>7.249890e+06</td>\n",
              "      <td>2564.166200</td>\n",
              "      <td>1.901376e+05</td>\n",
              "      <td>122.551330</td>\n",
              "      <td>28237.586107</td>\n",
              "      <td>1.579474e+05</td>\n",
              "      <td>49.065111</td>\n",
              "      <td>5471.654280</td>\n",
              "      <td>2.263611</td>\n",
              "      <td>864.381222</td>\n",
              "    </tr>\n",
              "    <tr>\n",
              "      <th>min</th>\n",
              "      <td>0.000000e+00</td>\n",
              "      <td>0.000000</td>\n",
              "      <td>0.000000e+00</td>\n",
              "      <td>0.000000</td>\n",
              "      <td>0.000000</td>\n",
              "      <td>0.000000e+00</td>\n",
              "      <td>0.000000</td>\n",
              "      <td>0.000000</td>\n",
              "      <td>0.000000</td>\n",
              "      <td>0.000000</td>\n",
              "    </tr>\n",
              "    <tr>\n",
              "      <th>25%</th>\n",
              "      <td>1.969750e+03</td>\n",
              "      <td>112.910000</td>\n",
              "      <td>3.800000e+01</td>\n",
              "      <td>1.590000</td>\n",
              "      <td>0.000000</td>\n",
              "      <td>2.125000e+01</td>\n",
              "      <td>0.950000</td>\n",
              "      <td>0.000000</td>\n",
              "      <td>0.000000</td>\n",
              "      <td>0.000000</td>\n",
              "    </tr>\n",
              "    <tr>\n",
              "      <th>50%</th>\n",
              "      <td>1.981050e+04</td>\n",
              "      <td>1021.770000</td>\n",
              "      <td>5.275000e+02</td>\n",
              "      <td>28.690000</td>\n",
              "      <td>40.500000</td>\n",
              "      <td>2.995000e+02</td>\n",
              "      <td>9.900000</td>\n",
              "      <td>8.000000</td>\n",
              "      <td>0.240000</td>\n",
              "      <td>0.000000</td>\n",
              "    </tr>\n",
              "    <tr>\n",
              "      <th>75%</th>\n",
              "      <td>1.963315e+05</td>\n",
              "      <td>3467.750000</td>\n",
              "      <td>5.553250e+03</td>\n",
              "      <td>91.420000</td>\n",
              "      <td>837.250000</td>\n",
              "      <td>3.187250e+03</td>\n",
              "      <td>55.280000</td>\n",
              "      <td>84.750000</td>\n",
              "      <td>1.760000</td>\n",
              "      <td>13.000000</td>\n",
              "    </tr>\n",
              "    <tr>\n",
              "      <th>max</th>\n",
              "      <td>1.076867e+08</td>\n",
              "      <td>13448.520000</td>\n",
              "      <td>2.829507e+06</td>\n",
              "      <td>1060.790000</td>\n",
              "      <td>420028.000000</td>\n",
              "      <td>2.368571e+06</td>\n",
              "      <td>246.360000</td>\n",
              "      <td>81310.000000</td>\n",
              "      <td>13.760000</td>\n",
              "      <td>12694.000000</td>\n",
              "    </tr>\n",
              "  </tbody>\n",
              "</table>\n",
              "</div>"
            ],
            "text/plain": [
              "       Cases - cumulative total  ...  Deaths - newly reported in last 24 hours\n",
              "count              2.380000e+02  ...                                238.000000\n",
              "mean               9.049299e+05  ...                                106.672269\n",
              "std                7.249890e+06  ...                                864.381222\n",
              "min                0.000000e+00  ...                                  0.000000\n",
              "25%                1.969750e+03  ...                                  0.000000\n",
              "50%                1.981050e+04  ...                                  0.000000\n",
              "75%                1.963315e+05  ...                                 13.000000\n",
              "max                1.076867e+08  ...                              12694.000000\n",
              "\n",
              "[8 rows x 10 columns]"
            ]
          },
          "metadata": {
            "tags": []
          },
          "execution_count": 25
        }
      ]
    },
    {
      "cell_type": "markdown",
      "metadata": {
        "id": "kFzkbgCOdsZd"
      },
      "source": [
        ""
      ]
    }
  ]
}